{
  "nbformat": 4,
  "nbformat_minor": 0,
  "metadata": {
    "colab": {
      "provenance": []
    },
    "kernelspec": {
      "name": "python3",
      "display_name": "Python 3"
    },
    "language_info": {
      "name": "python"
    }
  },
  "cells": [
    {
      "cell_type": "code",
      "execution_count": 2,
      "metadata": {
        "colab": {
          "base_uri": "https://localhost:8080/"
        },
        "id": "ccrKcblfNNk0",
        "outputId": "ce6b44a5-1a15-4e33-8c61-0e0380d4b96f"
      },
      "outputs": [
        {
          "output_type": "stream",
          "name": "stdout",
          "text": [
            "Введите год: 2024\n",
            "Високосный год\n"
          ]
        }
      ],
      "source": [
        "# Запрашиваем год у пользователя\n",
        "year = int(input(\"Введите год: \"))\n",
        "\n",
        "# Проверяем условие високосного года\n",
        "if (year % 400 == 0) or (year % 4 == 0 and year % 100 != 0):\n",
        "    print(\"Високосный год\")\n",
        "else:\n",
        "    print(\"Обычный год\")\n"
      ]
    },
    {
      "cell_type": "code",
      "source": [
        "# Запрашиваем номер билета у пользователя\n",
        "number = input(\"Введите шестизначный номер билета: \")\n",
        "\n",
        "# Проверяем, что введено ровно 6 цифр\n",
        "if len(number) == 6 and number.isdigit():\n",
        "    # Преобразуем первые три и последние три символа в числа и считаем суммы\n",
        "    first_sum = int(number[0]) + int(number[1]) + int(number[2])\n",
        "    last_sum = int(number[3]) + int(number[4]) + int(number[5])\n",
        "\n",
        "    # Сравниваем суммы\n",
        "    if first_sum == last_sum:\n",
        "        print(\"Счастливый билет\")\n",
        "    else:\n",
        "        print(\"Несчастливый билет\")\n",
        "else:\n",
        "    print(\"Ошибка: нужно ввести ровно шестизначное число\")\n"
      ],
      "metadata": {
        "colab": {
          "base_uri": "https://localhost:8080/"
        },
        "id": "mU6i5PRxPe5l",
        "outputId": "ead7d7d5-c088-497b-da8d-56bf6bd2e224"
      },
      "execution_count": 4,
      "outputs": [
        {
          "output_type": "stream",
          "name": "stdout",
          "text": [
            "Введите шестизначный номер билета: 123123\n",
            "Счастливый билет\n"
          ]
        }
      ]
    }
  ]
}